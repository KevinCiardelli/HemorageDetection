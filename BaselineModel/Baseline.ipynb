{
 "cells": [
  {
   "cell_type": "markdown",
   "metadata": {},
   "source": [
    "Now that we have our data fully downloaded, we can ebgin the process of training our baseline RESNET31 model\n",
    "\n",
    "Provided in the github are 3 tailored cv files that you must upload to compare our data against\n",
    "\n",
    "Navigate to these files within the drive and load"
   ]
  },
  {
   "cell_type": "code",
   "execution_count": null,
   "metadata": {
    "vscode": {
     "languageId": "plaintext"
    }
   },
   "outputs": [],
   "source": [
    "from google.colab import drive\n",
    "import os\n",
    "drive.mount('/content/drive', force_remount = True)"
   ]
  },
  {
   "cell_type": "code",
   "execution_count": null,
   "metadata": {
    "vscode": {
     "languageId": "plaintext"
    }
   },
   "outputs": [],
   "source": [
    "from fastai.vision.all import *\n",
    "from PIL import Image\n",
    "import numpy as np\n",
    "from matplotlib import pyplot as plt\n",
    "import pydicom\n",
    "import glob\n",
    "import pandas as pd\n",
    "import seaborn as sns\n",
    "from fastai.medical.imaging import *"
   ]
  },
  {
   "cell_type": "code",
   "execution_count": null,
   "metadata": {
    "vscode": {
     "languageId": "plaintext"
    }
   },
   "outputs": [],
   "source": [
    "labels = pd.read_csv('label.csv')\n",
    "multi_labels = pd.read_csv('multi_label.csv')\n",
    "updated_multi_labels = pd.read_csv('updated_multi_labels.csv')"
   ]
  },
  {
   "cell_type": "markdown",
   "metadata": {},
   "source": [
    "labels = labels.iloc[:,0:2]\n",
    "labels.head()"
   ]
  },
  {
   "cell_type": "code",
   "execution_count": null,
   "metadata": {
    "vscode": {
     "languageId": "plaintext"
    }
   },
   "outputs": [],
   "source": [
    "labels['ID'] = labels['ID'] + '.jpg'"
   ]
  },
  {
   "cell_type": "markdown",
   "metadata": {},
   "source": [
    "We will filter the csvs to make sure we are only identifying the files that our found within our dataset"
   ]
  },
  {
   "cell_type": "code",
   "execution_count": null,
   "metadata": {
    "vscode": {
     "languageId": "plaintext"
    }
   },
   "outputs": [],
   "source": [
    "file_list = os.listdir('rsna-data/train_jpg/train_jpg')\n",
    "labels = labels[labels['ID'].isin(file_list)]"
   ]
  },
  {
   "cell_type": "markdown",
   "metadata": {},
   "source": [
    "Function to show our images and their corresponding detection:"
   ]
  },
  {
   "cell_type": "code",
   "execution_count": null,
   "metadata": {
    "vscode": {
     "languageId": "plaintext"
    }
   },
   "outputs": [],
   "source": [
    "def show_batch(x, nrows = 5, ncols = 5, title = None):\n",
    "    \"\"\"\n",
    "    Read a list of images, and display them\n",
    "    \"\"\"\n",
    "    fig=plt.figure(figsize=(9, 9))\n",
    "    if title: plt.title(title)\n",
    "    for i in range(1, ncols*nrows +1):\n",
    "        ds = x[i]\n",
    "        fig.add_subplot(nrows, ncols, i)\n",
    "        plt.imshow(ds, cmap=plt.cm.bone)\n",
    "        fig.add_subplot"
   ]
  },
  {
   "cell_type": "code",
   "execution_count": null,
   "metadata": {
    "vscode": {
     "languageId": "plaintext"
    }
   },
   "outputs": [],
   "source": [
    "dls_modified.show_batch()"
   ]
  },
  {
   "cell_type": "code",
   "execution_count": null,
   "metadata": {
    "vscode": {
     "languageId": "plaintext"
    }
   },
   "outputs": [],
   "source": [
    "dls_modified = ImageDataLoaders.from_df(labels, 'rsna-data/train_jpg/train_jpg/', bs = 32, seed = 42)"
   ]
  },
  {
   "cell_type": "code",
   "execution_count": null,
   "metadata": {
    "vscode": {
     "languageId": "plaintext"
    }
   },
   "outputs": [],
   "source": [
    "learn = vision_learner(dls_modified, resnet31, metrics=error_rate)"
   ]
  },
  {
   "cell_type": "code",
   "execution_count": null,
   "metadata": {
    "vscode": {
     "languageId": "plaintext"
    }
   },
   "outputs": [],
   "source": [
    "learn.fit_one_cycle(3, 0.004365158267319202)"
   ]
  }
 ],
 "metadata": {
  "language_info": {
   "name": "python"
  }
 },
 "nbformat": 4,
 "nbformat_minor": 2
}
